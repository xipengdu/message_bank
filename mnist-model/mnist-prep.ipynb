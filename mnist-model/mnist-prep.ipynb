{
 "cells": [
  {
   "cell_type": "markdown",
   "id": "00244e68-41d1-4488-98fa-0781634c1a49",
   "metadata": {},
   "source": [
    "# Training an MNIST Classification Model\n",
    "\n",
    "In this short notebook, we'll train a logistic regression model for classifying handwritten digits, with the aim of incorporating this model into a webapp.\n",
    "\n",
    "For a more thorough discussion training and assessing the model, please consult [these lecture notes](https://nbviewer.org/github/PhilChodrow/PIC16A/blob/master/content/ML/digits.ipynb) or [this video](https://youtu.be/H6YG4HMAZPU) from PIC16A. "
   ]
  },
  {
   "cell_type": "code",
   "execution_count": 1,
   "id": "8c4426fb-94ff-46ae-a63c-83b4cbd90c12",
   "metadata": {},
   "outputs": [],
   "source": [
    "import pandas as pd\n",
    "from matplotlib import pyplot as plt\n",
    "from sklearn.datasets import load_digits\n",
    "from sklearn.model_selection import train_test_split\n",
    "from sklearn.linear_model import LogisticRegression\n",
    "import numpy as np"
   ]
  },
  {
   "cell_type": "markdown",
   "id": "44fd86af-5e6f-4341-8465-8a714a23a95f",
   "metadata": {},
   "source": [
    "First we'll acquire the data and take a look: "
   ]
  },
  {
   "cell_type": "code",
   "execution_count": 2,
   "id": "e510bddb-f823-45f7-9034-bb66bf7dfb4a",
   "metadata": {},
   "outputs": [
    {
     "data": {
      "text/plain": [
       "dict_keys(['data', 'target', 'frame', 'feature_names', 'target_names', 'images', 'DESCR'])"
      ]
     },
     "execution_count": 2,
     "metadata": {},
     "output_type": "execute_result"
    }
   ],
   "source": [
    "digits = load_digits()\n",
    "digits.keys()"
   ]
  },
  {
   "cell_type": "markdown",
   "id": "8eac46f7-80a1-4376-bcb9-73791efb4c11",
   "metadata": {},
   "source": [
    "Here's an individual digit. Note that we need to reshape the data into a square shape to plot it. "
   ]
  },
  {
   "cell_type": "code",
   "execution_count": 3,
   "id": "73ae2bdd-6947-4f7f-abfe-c4ba38bcf295",
   "metadata": {},
   "outputs": [
    {
     "data": {
      "text/plain": [
       "[Text(0.5, 1.0, 'True digit: 1')]"
      ]
     },
     "execution_count": 3,
     "metadata": {},
     "output_type": "execute_result"
    },
    {
     "data": {
      "image/png": "[encoded data removed]",
      "text/plain": [
       "<Figure size 640x480 with 1 Axes>"
      ]
     },
     "metadata": {},
     "output_type": "display_data"
    }
   ],
   "source": [
    "fig, ax = plt.subplots(1)\n",
    "i = 200\n",
    "\n",
    "ax.imshow(digits['data'][i].reshape(8, 8), cmap = plt.cm.binary)\n",
    "ax.set(title = \"True digit: \" + str(digits['target'][i]))"
   ]
  },
  {
   "cell_type": "markdown",
   "id": "72d3b5f5-ae48-4256-8f01-bc54bebdb8bb",
   "metadata": {},
   "source": [
    "Now we'll split the data into training and test sets. "
   ]
  },
  {
   "cell_type": "code",
   "execution_count": 4,
   "id": "719e4073-f7c7-4d53-9b3a-99b0c9243627",
   "metadata": {},
   "outputs": [],
   "source": [
    "X_train, X_test, y_train, y_test = train_test_split(digits.data, digits.target)"
   ]
  },
  {
   "cell_type": "markdown",
   "id": "d8045d97-a177-463a-8ffa-7f55bbf142e1",
   "metadata": {},
   "source": [
    "Next we'll create a logistic regression model and fit it to the training data. "
   ]
  },
  {
   "cell_type": "code",
   "execution_count": 5,
   "id": "146bbb16-9940-44d4-b44c-c8f3ef3c2380",
   "metadata": {},
   "outputs": [],
   "source": [
    "m = LogisticRegression(random_state = 0, solver = \"liblinear\")"
   ]
  },
  {
   "cell_type": "code",
   "execution_count": 6,
   "id": "4b24a3d3-11a3-40de-8574-02d8c39923fa",
   "metadata": {},
   "outputs": [
    {
     "data": {
      "text/html": [
       "<style>#sk-container-id-1 {color: black;}#sk-container-id-1 pre{padding: 0;}#sk-container-id-1 div.sk-toggleable {background-color: white;}#sk-container-id-1 label.sk-toggleable__label {cursor: pointer;display: block;width: 100%;margin-bottom: 0;padding: 0.3em;box-sizing: border-box;text-align: center;}#sk-container-id-1 label.sk-toggleable__label-arrow:before {content: \"▸\";float: left;margin-right: 0.25em;color: #696969;}#sk-container-id-1 label.sk-toggleable__label-arrow:hover:before {color: black;}#sk-container-id-1 div.sk-estimator:hover label.sk-toggleable__label-arrow:before {color: black;}#sk-container-id-1 div.sk-toggleable__content {max-height: 0;max-width: 0;overflow: hidden;text-align: left;background-color: #f0f8ff;}#sk-container-id-1 div.sk-toggleable__content pre {margin: 0.2em;color: black;border-radius: 0.25em;background-color: #f0f8ff;}#sk-container-id-1 input.sk-toggleable__control:checked~div.sk-toggleable__content {max-height: 200px;max-width: 100%;overflow: auto;}#sk-container-id-1 input.sk-toggleable__control:checked~label.sk-toggleable__label-arrow:before {content: \"▾\";}#sk-container-id-1 div.sk-estimator input.sk-toggleable__control:checked~label.sk-toggleable__label {background-color: #d4ebff;}#sk-container-id-1 div.sk-label input.sk-toggleable__control:checked~label.sk-toggleable__label {background-color: #d4ebff;}#sk-container-id-1 input.sk-hidden--visually {border: 0;clip: rect(1px 1px 1px 1px);clip: rect(1px, 1px, 1px, 1px);height: 1px;margin: -1px;overflow: hidden;padding: 0;position: absolute;width: 1px;}#sk-container-id-1 div.sk-estimator {font-family: monospace;background-color: #f0f8ff;border: 1px dotted black;border-radius: 0.25em;box-sizing: border-box;margin-bottom: 0.5em;}#sk-container-id-1 div.sk-estimator:hover {background-color: #d4ebff;}#sk-container-id-1 div.sk-parallel-item::after {content: \"\";width: 100%;border-bottom: 1px solid gray;flex-grow: 1;}#sk-container-id-1 div.sk-label:hover label.sk-toggleable__label {background-color: #d4ebff;}#sk-container-id-1 div.sk-serial::before {content: \"\";position: absolute;border-left: 1px solid gray;box-sizing: border-box;top: 0;bottom: 0;left: 50%;z-index: 0;}#sk-container-id-1 div.sk-serial {display: flex;flex-direction: column;align-items: center;background-color: white;padding-right: 0.2em;padding-left: 0.2em;position: relative;}#sk-container-id-1 div.sk-item {position: relative;z-index: 1;}#sk-container-id-1 div.sk-parallel {display: flex;align-items: stretch;justify-content: center;background-color: white;position: relative;}#sk-container-id-1 div.sk-item::before, #sk-container-id-1 div.sk-parallel-item::before {content: \"\";position: absolute;border-left: 1px solid gray;box-sizing: border-box;top: 0;bottom: 0;left: 50%;z-index: -1;}#sk-container-id-1 div.sk-parallel-item {display: flex;flex-direction: column;z-index: 1;position: relative;background-color: white;}#sk-container-id-1 div.sk-parallel-item:first-child::after {align-self: flex-end;width: 50%;}#sk-container-id-1 div.sk-parallel-item:last-child::after {align-self: flex-start;width: 50%;}#sk-container-id-1 div.sk-parallel-item:only-child::after {width: 0;}#sk-container-id-1 div.sk-dashed-wrapped {border: 1px dashed gray;margin: 0 0.4em 0.5em 0.4em;box-sizing: border-box;padding-bottom: 0.4em;background-color: white;}#sk-container-id-1 div.sk-label label {font-family: monospace;font-weight: bold;display: inline-block;line-height: 1.2em;}#sk-container-id-1 div.sk-label-container {text-align: center;}#sk-container-id-1 div.sk-container {/* jupyter's `normalize.less` sets `[hidden] { display: none; }` but bootstrap.min.css set `[hidden] { display: none !important; }` so we also need the `!important` here to be able to override the default hidden behavior on the sphinx rendered scikit-learn.org. See: https://github.com/scikit-learn/scikit-learn/issues/21755 */display: inline-block !important;position: relative;}#sk-container-id-1 div.sk-text-repr-fallback {display: none;}</style><div id=\"sk-container-id-1\" class=\"sk-top-container\"><div class=\"sk-text-repr-fallback\"><pre>LogisticRegression(random_state=0, solver=&#x27;liblinear&#x27;)</pre><b>In a Jupyter environment, please rerun this cell to show the HTML representation or trust the notebook. <br />On GitHub, the HTML representation is unable to render, please try loading this page with nbviewer.org.</b></div><div class=\"sk-container\" hidden><div class=\"sk-item\"><div class=\"sk-estimator sk-toggleable\"><input class=\"sk-toggleable__control sk-hidden--visually\" id=\"sk-estimator-id-1\" type=\"checkbox\" checked><label for=\"sk-estimator-id-1\" class=\"sk-toggleable__label sk-toggleable__label-arrow\">LogisticRegression</label><div class=\"sk-toggleable__content\"><pre>LogisticRegression(random_state=0, solver=&#x27;liblinear&#x27;)</pre></div></div></div></div></div>"
      ],
      "text/plain": [
       "LogisticRegression(random_state=0, solver='liblinear')"
      ]
     },
     "execution_count": 6,
     "metadata": {},
     "output_type": "execute_result"
    }
   ],
   "source": [
    "m.fit(X_train, y_train)"
   ]
  },
  {
   "cell_type": "markdown",
   "id": "7fab210f-cdc3-4ca4-9f7d-257b876aa980",
   "metadata": {},
   "source": [
    "How well does our model predict unseen images in the test set? "
   ]
  },
  {
   "cell_type": "code",
   "execution_count": 7,
   "id": "f72dbd1f-865c-4787-a327-866e65754e3f",
   "metadata": {},
   "outputs": [
    {
     "data": {
      "text/plain": [
       "0.9533333333333334"
      ]
     },
     "execution_count": 7,
     "metadata": {},
     "output_type": "execute_result"
    }
   ],
   "source": [
    "m.score(X_test, y_test)"
   ]
  },
  {
   "cell_type": "markdown",
   "id": "81fae4ef-86fa-40c3-bbb7-f479edd93c1b",
   "metadata": {},
   "source": [
    "## Pickling\n",
    "\n",
    "Now for the key step for today: we are going to **pickle** the model so that we can use it elsewhere. You can think of pickling is just a funny word for *saving* the model. We pickle the model by caling `pickle.dump` with an open file connection. "
   ]
  },
  {
   "cell_type": "code",
   "execution_count": 9,
   "id": "dff1c062-cf28-40b5-9f64-359f89271d01",
   "metadata": {},
   "outputs": [],
   "source": [
    "import pickle\n",
    "filename = 'model.pkl'\n",
    "pickle.dump(m, open(filename, 'wb'))"
   ]
  },
  {
   "cell_type": "markdown",
   "id": "b4a97701-8a0c-4638-98a4-2366a40a38a4",
   "metadata": {},
   "source": [
    "Once we've pickled the model, we can use it anywhere we want, by using `pickle.load()`. "
   ]
  },
  {
   "cell_type": "code",
   "execution_count": 10,
   "id": "3b9f27ae-8735-4807-b9b6-2548b993b59c",
   "metadata": {},
   "outputs": [],
   "source": [
    "M = pickle.load(open(filename, 'rb'))"
   ]
  },
  {
   "cell_type": "code",
   "execution_count": 11,
   "id": "bf745cbe-36e4-4e4d-8d77-131af3584769",
   "metadata": {},
   "outputs": [
    {
     "data": {
      "text/plain": [
       "0.9622222222222222"
      ]
     },
     "execution_count": 11,
     "metadata": {},
     "output_type": "execute_result"
    }
   ],
   "source": [
    "M.score(X_test, y_test)"
   ]
  },
  {
   "cell_type": "markdown",
   "id": "da442ae8-7161-4cfd-9277-dff757ec0967",
   "metadata": {},
   "source": [
    "## Saving Example Digits\n",
    "\n",
    "The code below saves a few example digits for us to play with in our webapp. "
   ]
  },
  {
   "cell_type": "code",
   "execution_count": 14,
   "id": "83633aec-37ad-42fc-888a-263273ff6f3b",
   "metadata": {},
   "outputs": [],
   "source": [
    "for i in range(10):\n",
    "    j = np.random.randint(0, digits[\"data\"].shape[0])\n",
    "    np.savetxt(\"sample-data/\" + str(j) + \".txt\", digits['data'][j].reshape(8, 8))"
   ]
  },
  {
   "cell_type": "code",
   "execution_count": null,
   "id": "bb5f4638",
   "metadata": {},
   "outputs": [],
   "source": []
  }
 ],
 "metadata": {
  "kernelspec": {
   "display_name": "PIC16B-24W",
   "language": "python",
   "name": "python3"
  },
  "language_info": {
   "codemirror_mode": {
    "name": "ipython",
    "version": 3
   },
   "file_extension": ".py",
   "mimetype": "text/x-python",
   "name": "python",
   "nbconvert_exporter": "python",
   "pygments_lexer": "ipython3",
   "version": "3.11.6"
  }
 },
 "nbformat": 4,
 "nbformat_minor": 5
}
